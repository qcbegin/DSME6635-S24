{
  "cells": [
    {
      "cell_type": "markdown",
      "metadata": {
        "colab_type": "text",
        "id": "view-in-github"
      },
      "source": [
        "<a href=\"https://colab.research.google.com/github/qcbegin/DSME6635-S24/blob/main/problem_sets/PS1_Bias_Variance.ipynb\" target=\"_parent\"><img src=\"https://colab.research.google.com/assets/colab-badge.svg\" alt=\"Open In Colab\"/></a>"
      ]
    },
    {
      "cell_type": "markdown",
      "id": "2e894704",
      "metadata": {
        "id": "2e894704"
      },
      "source": [
        "# Problem Set 1 - Bias-Variance Trade-off\n",
        "\n",
        "### DSME 6635: Artificial Intelligence for Business Research (Spring 2024)\n",
        "\n",
        "### Due at 12:30PM, Tuesday, January 16, 2024\n",
        "\n",
        "Please first copy the CoLab file onto your own Google Drive. Finish the questions below and submit the **CoLab link** of your solutions in [this Google Sheet](https://docs.google.com/spreadsheets/d/1nOE-saTptG73WMCONDB1Z3pt-jHhmDA_1OHpQVHqQ1M/edit#gid=517617149). The total achievable points are 8 for this problem set. Please name you solution as\n",
        "\n",
        "- `Member1LastName_Member1FirstName-Member2LastName_Member2FirstName_PS1.ipynb` (e.g., `Cao_Leo-Zhang_Renyu_PS1.ipynb`)"
      ]
    },
    {
      "cell_type": "markdown",
      "id": "f9rE07njR64Z",
      "metadata": {
        "id": "f9rE07njR64Z"
      },
      "source": [
        "The bias-variance trade-off is the most important trade-off in supervised learning. This exercise is designed to help you better understand this trade-off. You will work with the Boston Housing data set which we used in class demonstrations. You will be reading in this data set, split the data set into training and testing samples, and then fit polynomial functions for this data set."
      ]
    },
    {
      "cell_type": "markdown",
      "id": "b9b23c85",
      "metadata": {},
      "source": []
    },
    {
      "cell_type": "markdown",
      "id": "6d6d534e",
      "metadata": {
        "id": "6d6d534e"
      },
      "source": [
        "## 1. Read Data"
      ]
    },
    {
      "cell_type": "markdown",
      "id": "8c43e37c",
      "metadata": {
        "id": "8c43e37c"
      },
      "source": [
        "Create a function `read_data(degree=1)` which will read in the data and return four variables, X1, Y1 and X2, Y2. You need to first split the data into two datasets: the top 80% (you need to round up the splitting number for the top 80%. i.e., if there are 11 rows in the data, the top 80% should be the first 9 rows) will be the training data and the remaining 20% will be testing data. X1 and Y1 represent the features (`indus`, `rm`, and `lstat`) and labels (`medv`). Therefore, Y1 will be a vector and X1 is a matrix whose width depends on degree. If degree is 1, X1 has width 4 (3 features + the constant). Last, X2 and Y2 are polynomials of the features and `medv` for the testing data. In order to generate the polynomial of features, you can use [the function from sklearn](https://scikit-learn.org/stable/modules/generated/sklearn.preprocessing.PolynomialFeatures.html)."
      ]
    },
    {
      "cell_type": "code",
      "execution_count": null,
      "id": "8d116e4f",
      "metadata": {},
      "outputs": [],
      "source": [
        "poly = PolyF(degree=2)\n",
        "poly.fit_transform(np.array([[1,2,3],[2,3,4]]))\n",
        "# degree 0, degree 1, x1^2 x1x2 x1x3 x2^2 x2x3 x3^2"
      ]
    },
    {
      "cell_type": "code",
      "execution_count": 1,
      "id": "YfR7uCsCbjHv",
      "metadata": {
        "id": "YfR7uCsCbjHv"
      },
      "outputs": [],
      "source": [
        "# Import necessary packages.\n",
        "\n",
        "import pandas as pd\n",
        "import numpy as np\n",
        "from sklearn.preprocessing import PolynomialFeatures as PolyF\n",
        "from sklearn.linear_model import LinearRegression as LinReg\n",
        "\n",
        "# Load the data from our course GitHub repo.\n",
        "\n",
        "url = \"https://raw.githubusercontent.com/rphilipzhang/AI-PhD-S24/main/Data/BostonHousing.csv\"\n",
        "df_BH = pd.read_csv(url)\n",
        "\n",
        "\n",
        "def read_data(degree=1,df=df_BH):\n",
        "    \"\"\"\n",
        "    This function will read in the data frame and return training and\n",
        "    testing samples.\n",
        "    Input:\n",
        "        degree: the highest degree of polynomials.\n",
        "    Output:\n",
        "        X1: training features\n",
        "        Y1: training labels\n",
        "        X2: testing features\n",
        "        Y2: testing labels\n",
        "        (Note: the column sequence of X1 and X2 should follow the same sequence as the column sequence in the original dataframe)\n",
        "    \"\"\"\n",
        "    X1 = Y1 = X2 = Y2 = np.array([])\n",
        "\n",
        "    ### BEGIN SOLUTION\n",
        "    \n",
        "    # check the inputted dataframe before proceeding\n",
        "    df_size = len(df)\n",
        "    fs = ['indus','rm','lstat','medv']\n",
        "    if df_size == 0:\n",
        "        raise ValueError(\"The inputted dataframe is empty.\")\n",
        "    \n",
        "    split = int(np.ceil(df_size*0.8))\n",
        "    if split == df_size:\n",
        "        raise ValueError(\"The inputted dataframe is too small to be split into training and testing sets.\")\n",
        "    \n",
        "    if not set(fs).issubset(df.columns):\n",
        "        raise ValueError(\"The inputted dataframe does not have the correct columns.\")\n",
        "    \n",
        "    ## Without shuffle\n",
        "    X = df[fs[:3]].values\n",
        "    Y = df[fs[-1]].values\n",
        "    ## With shuffle\n",
        "    # perm = np.random.permutation(df_size)\n",
        "    # X = df[fs[:3]].values[perm]\n",
        "    # Y = df[fs[-1]].values[perm]\n",
        "\n",
        "    X1 = X[:split]\n",
        "    Y1 = Y[:split]\n",
        "    X2 = X[split:]\n",
        "    Y2 = Y[split:]\n",
        "\n",
        "    # create a PolynomialFeatures object with the degree specified\n",
        "    poly = PolyF(degree=degree)\n",
        "    X1 = poly.fit_transform(X1)\n",
        "    X2 = poly.fit_transform(X2)\n",
        "\n",
        "    ### END SOLUTION\n",
        "\n",
        "    return X1, Y1, X2, Y2"
      ]
    },
    {
      "cell_type": "code",
      "execution_count": 2,
      "id": "slDfqIC2cPSH",
      "metadata": {
        "id": "slDfqIC2cPSH"
      },
      "outputs": [],
      "source": [
        "# Unit tests for the read_data function with degree=1.\n",
        "\n",
        "X1, Y1, X2, Y2 = read_data(degree=1,df=df_BH)\n",
        "assert X1.shape == (405, 4)\n",
        "assert X2.shape == (101, 4)\n",
        "assert Y1.size == 405\n",
        "assert Y2.size == 101"
      ]
    },
    {
      "cell_type": "code",
      "execution_count": 3,
      "id": "jpVqpr3ZddlC",
      "metadata": {
        "id": "jpVqpr3ZddlC"
      },
      "outputs": [],
      "source": [
        "# Unit tests for the read_data function with degree=2.\n",
        "\n",
        "X1, Y1, X2, Y2 = read_data(degree=2,df=df_BH)\n",
        "assert X1.shape == (405, 10)\n",
        "assert X2.shape == (101, 10)\n",
        "assert Y1.size == 405\n",
        "assert Y2.size == 101"
      ]
    },
    {
      "cell_type": "markdown",
      "id": "a79b4805",
      "metadata": {
        "id": "a79b4805"
      },
      "source": [
        "## 2. Evaluate the Training and Testing Errors"
      ]
    },
    {
      "cell_type": "markdown",
      "id": "0a81c751",
      "metadata": {
        "id": "0a81c751"
      },
      "source": [
        "Create a function `generate_error(X1, Y1, X2, Y2)` which trains a linear regression model of Y1 on X1. It will then output the `insample_mean_squared_error` and `outofsample_mean_squared_error`. `insample_mean_squared_error` is based on `Y1`, and `outofsample_mean_squared_error` is based on `Y2`. You can use the sklearn function to run [linear regression predictors](https://scikit-learn.org/stable/modules/generated/sklearn.linear_model.LinearRegression.html)."
      ]
    },
    {
      "cell_type": "code",
      "execution_count": 4,
      "id": "WLm_-6MwibEU",
      "metadata": {
        "id": "WLm_-6MwibEU"
      },
      "outputs": [],
      "source": [
        "def generate_mse(X1, Y1, X2, Y2):\n",
        "    \"\"\"\n",
        "    This function takes in the training and testing features and labels,\n",
        "    it will return the in_sample and out_of_sample errors of linear regression.\n",
        "    Input:\n",
        "        X1, Y1: features and labels for training samples\n",
        "        X2, Y2: features and labels for testing samples\n",
        "    Ouput:\n",
        "        in_sample_mse, out_of_sample_mse: in-sample and out-of-sample mean squared error of the model\n",
        "    \"\"\"\n",
        "    in_sample_mse = out_of_sample_mse = 0\n",
        "\n",
        "    ### BEGIN SOLUTION\n",
        "    # check if the number of features and labels match\n",
        "    if X1.shape[0] != Y1.size:\n",
        "        raise ValueError(\"The number of training features and labels do not match.\")\n",
        "    if X2.shape[0] != Y2.size:\n",
        "        raise ValueError(\"The number of testing features and labels do not match.\")\n",
        "\n",
        "    lin = LinReg()\n",
        "    lin.fit(X1,Y1)\n",
        "    in_sample_mse = np.mean((lin.predict(X1)-Y1)**2)\n",
        "    out_of_sample_mse = np.mean((lin.predict(X2)-Y2)**2)\n",
        "\n",
        "    ### END SOLUTION\n",
        "\n",
        "    return in_sample_mse, out_of_sample_mse"
      ]
    },
    {
      "cell_type": "code",
      "execution_count": 5,
      "id": "zmdxrtYrj_fK",
      "metadata": {
        "id": "zmdxrtYrj_fK"
      },
      "outputs": [],
      "source": [
        "# Unit tests for the read_data function with degree=1.\n",
        "\n",
        "X1, Y1, X2, Y2 = read_data(degree=1,df=df_BH)\n",
        "in_sample_mse, out_of_sample_mse = generate_mse(X1, Y1, X2, Y2)\n",
        "assert np.isclose(in_sample_mse, 30.04818814902604)\n",
        "assert np.isclose(out_of_sample_mse, 39.459195874785145)"
      ]
    },
    {
      "cell_type": "code",
      "execution_count": 6,
      "id": "zHTfzPQbkJn4",
      "metadata": {
        "id": "zHTfzPQbkJn4"
      },
      "outputs": [],
      "source": [
        "# Unit tests for the read_data function with degree=2.\n",
        "\n",
        "X1, Y1, X2, Y2 = read_data(degree=2,df=df_BH)\n",
        "in_sample_mse, out_of_sample_mse = generate_mse(X1, Y1, X2, Y2)\n",
        "assert np.isclose(in_sample_mse, 16.18744994075758)\n",
        "assert np.isclose(out_of_sample_mse, 18.541655356264993)"
      ]
    },
    {
      "cell_type": "markdown",
      "id": "d9900735",
      "metadata": {
        "id": "d9900735"
      },
      "source": [
        "## 3. Generate a Vector of Errors"
      ]
    },
    {
      "cell_type": "markdown",
      "id": "4b425c7f",
      "metadata": {
        "id": "4b425c7f"
      },
      "source": [
        "Create a function `generate_error_vectors(degrees=[])` which generates two lists representing the insample_mse and outofsample_mse for each polynomial degree defined in the input. For example, if the input is [1,3,5,8], then the function will return two lists of length 4 representing the in-sample and out-of-sample mean squared error corresponding to that the polynomial degree is 1, 3, 5 and 8."
      ]
    },
    {
      "cell_type": "code",
      "execution_count": 7,
      "id": "D8QDSrjFlovS",
      "metadata": {
        "id": "D8QDSrjFlovS"
      },
      "outputs": [],
      "source": [
        "def generate_error_vectors(degrees):\n",
        "    \"\"\"\n",
        "    This function takes a list of hyperparameteres of degrees and returns\n",
        "    the in-sample and out-of-sample errors of each hyperparameter.\n",
        "    Input:\n",
        "        degress: a list of higest degrees of functions to fit\n",
        "    Output:\n",
        "        in_sample_mses, out_of_sample_mses: the in-sample and out-of-sample\n",
        "        mean squared error corresponding to each hyper-parameter in the input\n",
        "        list.\n",
        "    \"\"\"\n",
        "\n",
        "    in_sample_mses = []\n",
        "    out_of_sample_mses = []\n",
        "\n",
        "    ### BEGIN SOLUTION\n",
        "    for i in degrees:\n",
        "        X1, Y1, X2, Y2 = read_data(degree=i, df=df_BH)\n",
        "        in_sample_mse, out_of_sample_mse = generate_mse(X1, Y1, X2, Y2)\n",
        "        in_sample_mses.append(in_sample_mse)\n",
        "        out_of_sample_mses.append(out_of_sample_mse)\n",
        "    ### END SOLUTION\n",
        "\n",
        "    return in_sample_mses, out_of_sample_mses"
      ]
    },
    {
      "cell_type": "code",
      "execution_count": 8,
      "id": "wfLqW2JamvKf",
      "metadata": {
        "id": "wfLqW2JamvKf"
      },
      "outputs": [],
      "source": [
        "# Unit tests for the function generate_error_vectors()\n",
        "\n",
        "in_sample_mses, out_of_sample_mses = generate_error_vectors(list(range(1, 6)))\n",
        "assert len(in_sample_mses) == 5\n",
        "assert len(out_of_sample_mses) == 5\n",
        "assert np.isclose(in_sample_mses[3], 12.163525946822281)\n",
        "assert np.isclose(out_of_sample_mses[3], 20.638652953787005)"
      ]
    },
    {
      "cell_type": "markdown",
      "id": "8RfYB3y9nReo",
      "metadata": {
        "id": "8RfYB3y9nReo"
      },
      "source": [
        "What is the optimal degree? Please discuss how your generated error vectors relate to the bias-variance tradeoff."
      ]
    },
    {
      "cell_type": "markdown",
      "id": "gKA8b2wvn92x",
      "metadata": {
        "id": "gKA8b2wvn92x"
      },
      "source": [
        "### Provide your answers here."
      ]
    },
    {
      "cell_type": "code",
      "execution_count": 9,
      "id": "2f924e42",
      "metadata": {},
      "outputs": [
        {
          "name": "stdout",
          "output_type": "stream",
          "text": [
            "The best degree of polynomial is:  3\n"
          ]
        }
      ],
      "source": [
        "# find the best degree of polynomial, that is, the degree that minimizes the out-of-sample error\n",
        "degrees = list(range(1, 6))\n",
        "in_sample_mses, out_of_sample_mses = generate_error_vectors(degrees)\n",
        "best_degree = degrees[np.argmin(out_of_sample_mses)]\n",
        "print(\"The best degree of polynomial is: \", best_degree)"
      ]
    },
    {
      "cell_type": "code",
      "execution_count": 10,
      "id": "1d372aa4",
      "metadata": {},
      "outputs": [
        {
          "data": {
            "image/png": "[encoded data removed]",
            "text/plain": [
              "<Figure size 1000x600 with 2 Axes>"
            ]
          },
          "metadata": {},
          "output_type": "display_data"
        }
      ],
      "source": [
        "import matplotlib.pyplot as plt\n",
        "\n",
        "fig, ax1 = plt.subplots()\n",
        "fig.set_size_inches(10, 6)\n",
        "ax1.set_xlabel(\"Degree of polynomial features\")\n",
        "ax1.set_ylabel(\"In-sample MSE\", color='tab:blue')\n",
        "ax1.plot(degrees, in_sample_mses, color='tab:blue')\n",
        "ax1.tick_params(axis='y')\n",
        "\n",
        "ax2 = ax1.twinx()\n",
        "ax2.set_ylabel(\"Out-of-sample MSE\", color='tab:red')\n",
        "ax2.plot(degrees, out_of_sample_mses, color = 'tab:red')\n",
        "ax2.tick_params(axis='y')\n",
        "plt.axvline(x=best_degree, color=\"red\", linestyle=\"--\", label=\"Best degree\", alpha=0.5)\n",
        "fig.tight_layout()\n",
        "plt.xticks(degrees)\n",
        "plt.legend()\n",
        "plt.show()"
      ]
    },
    {
      "cell_type": "markdown",
      "id": "47b9c882",
      "metadata": {},
      "source": [
        "**Explanation:**\n",
        "\n",
        "The above graph shows the trade-off between variance and bias, where bias can be proxied by in-sample MSE and variance proxied by out-sample MSE. When we increase the polynominal degree of our selected features, the model become more complex and can better fit our provided training set, leading to lower in-sample MSE. However, at the same time, we see highly complex models (models whose degree > 3) don't perform as well as simpler models in our testing dataset (with higher out-sample MSE). At some point, the out-sample MSE starts to increase rapidly. This could be an indicator that performances of models with higher degree (less bias) are unstable across different sample sets (high variance, more sensitive to noises existed in different sample sets). The trade-off is that ideal model should balances both errors, accurately representing the training data while generalizing well to unseen data."
      ]
    },
    {
      "cell_type": "markdown",
      "id": "f27793c8",
      "metadata": {
        "id": "f27793c8"
      },
      "source": [
        "## End of Problem Set 1."
      ]
    },
    {
      "cell_type": "code",
      "execution_count": null,
      "id": "WKMMgevmniJJ",
      "metadata": {
        "id": "WKMMgevmniJJ"
      },
      "outputs": [],
      "source": []
    }
  ],
  "metadata": {
    "colab": {
      "include_colab_link": true,
      "provenance": []
    },
    "kernelspec": {
      "display_name": "Python 3 (ipykernel)",
      "language": "python",
      "name": "python3"
    },
    "language_info": {
      "codemirror_mode": {
        "name": "ipython",
        "version": 3
      },
      "file_extension": ".py",
      "mimetype": "text/x-python",
      "name": "python",
      "nbconvert_exporter": "python",
      "pygments_lexer": "ipython3",
      "version": "3.11.1"
    }
  },
  "nbformat": 4,
  "nbformat_minor": 5
}
