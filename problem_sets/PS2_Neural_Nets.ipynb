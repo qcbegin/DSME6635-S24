{
  "cells": [
    {
      "cell_type": "markdown",
      "metadata": {
        "colab_type": "text",
        "id": "view-in-github"
      },
      "source": [
        "<a href=\"https://colab.research.google.com/github/qcbegin/DSME6635-S24/blob/main/problem_sets/PS2_Neural_Nets.ipynb\" target=\"_parent\"><img src=\"https://colab.research.google.com/assets/colab-badge.svg\" alt=\"Open In Colab\"/></a>"
      ]
    },
    {
      "cell_type": "markdown",
      "metadata": {
        "id": "dPRbrMqxS7rx"
      },
      "source": [
        "# Problem Set 2 - Implementing Neural Nets\n",
        "\n",
        "### DSME 6635: Artificial Intelligence for Business Research (Spring 2024)\n",
        "\n",
        "### Due at 12:30PM, Tuesday, January 30, 2024\n",
        "\n",
        "Please first copy the CoLab file onto your own Google Drive. Finish the questions below and submit the **CoLab link** of your solutions in [this Google Sheet](https://docs.google.com/spreadsheets/d/1nOE-saTptG73WMCONDB1Z3pt-jHhmDA_1OHpQVHqQ1M/edit#gid=434132169). The total achievable points are 8 for this problem set. Please name you solution as\n",
        "\n",
        "- `Member1LastName_Member1FirstName-Member2LastName_Member2FirstName_PS2.ipynb` (e.g., `Cao_Leo-Zhang_Renyu_PS2.ipynb`)\n",
        "\n",
        "## Pre-requisites\n",
        "\n",
        "For building neural networks, there are two fundamental computational frameworks specificialized towards Deep Learning:\n",
        "1. [TensorFlow](https://www.tensorflow.org/tutorials) implemented by **Google**.\n",
        "2. [PyTorch](https://pytorch.org/tutorials/) implemented by **Facebook**.\n",
        "\n",
        "**You should carefully review the documentations of both frameworks to understand what they do.**"
      ]
    },
    {
      "cell_type": "markdown",
      "metadata": {
        "id": "PUTtgESCYPVN"
      },
      "source": [
        "## California Housing Price Prediction\n",
        "\n",
        "In this problem, you are asked to build a three layer multilayer percetron (MLP) to predict the housing price using the Califonira housing data. The following gives you the description of the data:\n",
        "\n",
        "The California Housing dataset, used in this exercise, is a popular dataset for regression tasks in machine learning. It consists of data collected from the 1990 California census and contains information on the median house values for various census blocks in the state of California. The dataset includes 20,640 samples with 8 features, and the goal is to predict the median house value (in units of 100,000 USD) for each block.\n",
        "\n",
        "Features included in the dataset are:\n",
        "\n",
        "1. `MedInc`: Median income in the block\n",
        "2. `HouseAge`: Median age of houses in the block\n",
        "3. `AveRooms`: Average number of rooms per household in the block\n",
        "4. `AveBedrms`: Average number of bedrooms per household in the block\n",
        "5. `Population`: Total population in the block\n",
        "6. `AveOccup`: Average number of occupants per household in the block\n",
        "7. `Latitude`: Latitude of the block\n",
        "8. `Longitude`: Longitude of the block\n",
        "\n",
        "This data set is available in the sklearn.datasets library as part of the `scikit-learn` package. You can find more information about the dataset and its usage in the `scikit-learn` documentations: [California Housing Dataset Description](https://scikit-learn.org/stable/datasets/toy_dataset.html#california-housing-dataset) and\n",
        "[fetch_california_housing function documentation](https://scikit-learn.org/stable/modules/generated/sklearn.datasets.fetch_california_housing.html).\n",
        "\n",
        "The original dataset can be found at the following source: Pace, R. Kelley, and Ronald Barry. \"Sparse spatial autoregressions.\" Statistics & Probability Letters 33.3 (1997): 291-297. You may also directly download the data set from Kaggle: https://www.kaggle.com/datasets/camnugent/california-housing-prices"
      ]
    },
    {
      "cell_type": "markdown",
      "metadata": {
        "id": "5-lr9BBVY2LV"
      },
      "source": [
        "The problem will be divided into several sub-problems and in each of the subproblem  you need to follow the instruction to build the code and there are unit tests at the end of each coding block to test your code for that block.\n",
        "\n",
        "## 1. Loading Packages and Data.\n",
        "\n",
        "You need to use TensorDataset and DataLoader to load both the training and testing data into tensor dataset for PyTorch and DataLoader (so that you can do batch processing). For training data, the shuffle is True and for testing data the shuffle is False. Your default batch size should be 64. See [this tutorial](https://pytorch.org/tutorials/beginner/basics/data_tutorial.html) for details.\n",
        "\n"
      ]
    },
    {
      "cell_type": "code",
      "execution_count": 1,
      "metadata": {
        "id": "j6ExUDI4S7Ry"
      },
      "outputs": [],
      "source": [
        "import torch\n",
        "import torch.nn as nn\n",
        "import torch.optim as optim\n",
        "import numpy as np\n",
        "from sklearn.datasets import fetch_california_housing\n",
        "from sklearn.model_selection import train_test_split\n",
        "from sklearn.preprocessing import StandardScaler\n",
        "from torch.utils.data import DataLoader, TensorDataset\n",
        "\n",
        "data = fetch_california_housing()\n",
        "X = data.data\n",
        "y = data.target\n",
        "\n",
        "X_train, X_test, y_train, y_test = train_test_split(X, y, test_size=0.2, random_state=666)\n",
        "\n",
        "scaler = StandardScaler()\n",
        "X_train = scaler.fit_transform(X_train)\n",
        "X_test = scaler.transform(X_test)\n",
        "\n",
        "# Use TensorDataset and DataLoader to process X_train and X_test, and define your returns as train_data, test_data, train_loader and test_loader\n",
        "### BEGIN YOUR CODE HERE\n",
        "\n",
        "# # Method1: use TensorDataset and DataLoader to process X_train and X_test\n",
        "# X_train_tensor = torch.from_numpy(X_train.astype(np.float32))\n",
        "# y_train_tensor = torch.from_numpy(y_train.astype(np.float32)).view(-1, 1)\n",
        "# X_test_tensor = torch.from_numpy(X_test.astype(np.float32)\n",
        "# y_test_tensor = torch.from_numpy(y_test.astype(np.float32).view(-1, 1)\n",
        "\n",
        "# train_data = TensorDataset(X_train_tensor, y_train_tensor)\n",
        "# test_data = TensorDataset(X_test_tensor, y_test_tensor)\n",
        "\n",
        "# Method2: directly define a new class\n",
        "class CaliforniaHousingDataset(TensorDataset):\n",
        "    def __init__(self, X, y):\n",
        "        self.X = torch.from_numpy(X.astype(np.float32))\n",
        "        self.y = torch.from_numpy(y.astype(np.float32)).view(-1, 1)\n",
        "\n",
        "    def __getitem__(self, index):\n",
        "        return self.X[index], self.y[index]\n",
        "\n",
        "    def __len__(self):\n",
        "        return len(self.X)\n",
        "\n",
        "train_data = CaliforniaHousingDataset(X_train, y_train)\n",
        "test_data = CaliforniaHousingDataset(X_test, y_test)\n",
        "\n",
        "train_loader = DataLoader(train_data, batch_size=64, shuffle=True)\n",
        "test_loader = DataLoader(test_data, batch_size=64, shuffle=False)\n",
        "\n",
        "### END YOUR CODE HERE\n"
      ]
    },
    {
      "cell_type": "code",
      "execution_count": 2,
      "metadata": {
        "id": "FelSzMTvZnlt"
      },
      "outputs": [],
      "source": [
        "# Assert that the length of train_loader and test_loader are as expected\n",
        "assert len(train_loader) == np.ceil(len(train_data) / train_loader.batch_size), \"Incorrect train_loader length\"\n",
        "assert len(test_loader) == np.ceil(len(test_data) / test_loader.batch_size), \"Incorrect test_loader length\"\n",
        "\n",
        "# Assert that the first batch of training data has the correct size\n",
        "first_batch_features, first_batch_targets = next(iter(train_loader))\n",
        "assert first_batch_features.size(0) == train_loader.batch_size, \"Incorrect batch size for train_loader features\"\n",
        "assert first_batch_targets.size(0) == train_loader.batch_size, \"Incorrect batch size for train_loader targets\"\n"
      ]
    },
    {
      "cell_type": "markdown",
      "metadata": {
        "id": "IDefuscMZnUB"
      },
      "source": [
        "## 2. Create a Multilayer Perceptron (MLP) Class.\n",
        "\n",
        "The MLP will have 3 linear layers (input->hidden->hidden->output). Each hidden layer should have hidden_size number of nodes, and use ReLU as the activation function. You are asked to implement both the initialization function (how the neural network structure is built), as well as the foward function (how to calculate the output from the input).\n",
        "\n",
        "\n"
      ]
    },
    {
      "cell_type": "code",
      "execution_count": 3,
      "metadata": {
        "id": "h2GAvGJdWu9N"
      },
      "outputs": [],
      "source": [
        "class MLP(nn.Module):\n",
        "    def __init__(self, input_size, hidden_size, output_size):\n",
        "        \"\"\"\n",
        "        This function initializates the neural network\n",
        "        Input:\n",
        "            input_size: the dimension of input data\n",
        "            hidden_size: number of nodes in each hidden layer\n",
        "            output_size: the dimension of output data\n",
        "        Output:\n",
        "            None\n",
        "        \"\"\"\n",
        "        super(MLP, self).__init__()\n",
        "        ### BEGIN YOUR CODE\n",
        "        # Name layers and activation functions as fc1, relu1, fc2, relu2, etc., which will be tested in the next code block\n",
        "        self.fc1 = nn.Linear(input_size, hidden_size)\n",
        "        self.relu1 = nn.ReLU()\n",
        "        self.fc2 = nn.Linear(hidden_size, output_size)\n",
        "        self.relu2 = nn.ReLU()\n",
        "        ### END YOUR CODE\n",
        "\n",
        "\n",
        "    def forward(self, input):\n",
        "        \"\"\"\n",
        "        This function calculates the output from the input\n",
        "        Input:\n",
        "            input: input data\n",
        "        Output:\n",
        "            out: output data derived from the model\n",
        "        \"\"\"\n",
        "        ### BEGIN YOUR CODE\n",
        "        output = self.relu1(self.fc1(input))\n",
        "        output = self.relu2(self.fc2(output))\n",
        "        ### END YOUR CODE\n",
        "        return output"
      ]
    },
    {
      "cell_type": "code",
      "execution_count": 4,
      "metadata": {
        "id": "9n-QRbKFbGIs"
      },
      "outputs": [],
      "source": [
        "test_input_size = 8\n",
        "test_hidden_size = 16\n",
        "test_output_size = 1\n",
        "\n",
        "test_model = MLP(test_input_size, test_hidden_size, test_output_size)\n",
        "\n",
        "assert isinstance(test_model.fc1, nn.Linear), \"First layer should be an instance of nn.Linear\"\n",
        "assert isinstance(test_model.relu1, nn.ReLU), \"ReLU activation function is not properly set\"\n",
        "assert isinstance(test_model.fc2, nn.Linear), \"Second layer should be an instance of nn.Linear\"\n",
        "assert isinstance(test_model.relu2, nn.ReLU), \"ReLU activation function is not properly set\"\n"
      ]
    },
    {
      "cell_type": "markdown",
      "metadata": {
        "id": "-95rd0mabdlQ"
      },
      "source": [
        "## 3. Set the model's (Hyper)-Parameters and Train the Model.\n",
        "\n",
        "Right now the model has 2 hidden layers with 64 nodes per layer. Train the model for 100 epochs with a learning rate equal to 0.001. You will also use the Adam optimizer for your SGD. In this case, you are going to implement the training loop, where you will make a forward pass, compute the loss and update the gradient (step the optimizer)."
      ]
    },
    {
      "cell_type": "code",
      "execution_count": 5,
      "metadata": {
        "id": "eJoTG0izfKp-"
      },
      "outputs": [
        {
          "name": "stdout",
          "output_type": "stream",
          "text": [
            "Epoch [10/100], Loss: 0.3097\n",
            "Epoch [20/100], Loss: 0.2665\n",
            "Epoch [30/100], Loss: 0.3108\n",
            "Epoch [40/100], Loss: 0.3504\n",
            "Epoch [50/100], Loss: 0.4905\n",
            "Epoch [60/100], Loss: 0.1684\n",
            "Epoch [70/100], Loss: 0.3617\n",
            "Epoch [80/100], Loss: 0.2160\n",
            "Epoch [90/100], Loss: 0.2642\n",
            "Epoch [100/100], Loss: 0.2080\n"
          ]
        }
      ],
      "source": [
        "input_size = X_train.shape[1]\n",
        "hidden_size = 64\n",
        "output_size = 1\n",
        "num_epochs = 100\n",
        "learning_rate = 0.001\n",
        "\n",
        "model = MLP(input_size, hidden_size, output_size)\n",
        "criterion = nn.MSELoss()\n",
        "optimizer = optim.Adam(model.parameters(), lr=learning_rate)\n",
        "\n",
        "for epoch in range(num_epochs):\n",
        "    for i, (features, targets) in enumerate(train_loader):\n",
        "        targets = targets.view(-1, 1)\n",
        "\n",
        "        ### BEGIN YOUR CODE\n",
        "        # Forward pass\n",
        "        pred = model(features)\n",
        "        loss = criterion(pred, targets)\n",
        "        # Backward pass and optimization\n",
        "        loss.backward()\n",
        "        optimizer.step()\n",
        "        optimizer.zero_grad()\n",
        "        ### END YOUR CODE\n",
        "\n",
        "    if (epoch + 1) % 10 == 0:\n",
        "      print(f'Epoch [{epoch + 1}/{num_epochs}], Loss: {loss.item():.4f}')"
      ]
    },
    {
      "cell_type": "markdown",
      "metadata": {
        "id": "7hCs1FE7dQC1"
      },
      "source": [
        "## 4. Use `sklearn.linear_model` to write a simple linear regression where the features are X and the outcome is Y. You then train the linear regression model on the California Housing Data."
      ]
    },
    {
      "cell_type": "code",
      "execution_count": 6,
      "metadata": {
        "id": "FeJfGwK-erPx"
      },
      "outputs": [
        {
          "data": {
            "text/html": [
              "<style>#sk-container-id-1 {color: black;}#sk-container-id-1 pre{padding: 0;}#sk-container-id-1 div.sk-toggleable {background-color: white;}#sk-container-id-1 label.sk-toggleable__label {cursor: pointer;display: block;width: 100%;margin-bottom: 0;padding: 0.3em;box-sizing: border-box;text-align: center;}#sk-container-id-1 label.sk-toggleable__label-arrow:before {content: \"▸\";float: left;margin-right: 0.25em;color: #696969;}#sk-container-id-1 label.sk-toggleable__label-arrow:hover:before {color: black;}#sk-container-id-1 div.sk-estimator:hover label.sk-toggleable__label-arrow:before {color: black;}#sk-container-id-1 div.sk-toggleable__content {max-height: 0;max-width: 0;overflow: hidden;text-align: left;background-color: #f0f8ff;}#sk-container-id-1 div.sk-toggleable__content pre {margin: 0.2em;color: black;border-radius: 0.25em;background-color: #f0f8ff;}#sk-container-id-1 input.sk-toggleable__control:checked~div.sk-toggleable__content {max-height: 200px;max-width: 100%;overflow: auto;}#sk-container-id-1 input.sk-toggleable__control:checked~label.sk-toggleable__label-arrow:before {content: \"▾\";}#sk-container-id-1 div.sk-estimator input.sk-toggleable__control:checked~label.sk-toggleable__label {background-color: #d4ebff;}#sk-container-id-1 div.sk-label input.sk-toggleable__control:checked~label.sk-toggleable__label {background-color: #d4ebff;}#sk-container-id-1 input.sk-hidden--visually {border: 0;clip: rect(1px 1px 1px 1px);clip: rect(1px, 1px, 1px, 1px);height: 1px;margin: -1px;overflow: hidden;padding: 0;position: absolute;width: 1px;}#sk-container-id-1 div.sk-estimator {font-family: monospace;background-color: #f0f8ff;border: 1px dotted black;border-radius: 0.25em;box-sizing: border-box;margin-bottom: 0.5em;}#sk-container-id-1 div.sk-estimator:hover {background-color: #d4ebff;}#sk-container-id-1 div.sk-parallel-item::after {content: \"\";width: 100%;border-bottom: 1px solid gray;flex-grow: 1;}#sk-container-id-1 div.sk-label:hover label.sk-toggleable__label {background-color: #d4ebff;}#sk-container-id-1 div.sk-serial::before {content: \"\";position: absolute;border-left: 1px solid gray;box-sizing: border-box;top: 0;bottom: 0;left: 50%;z-index: 0;}#sk-container-id-1 div.sk-serial {display: flex;flex-direction: column;align-items: center;background-color: white;padding-right: 0.2em;padding-left: 0.2em;position: relative;}#sk-container-id-1 div.sk-item {position: relative;z-index: 1;}#sk-container-id-1 div.sk-parallel {display: flex;align-items: stretch;justify-content: center;background-color: white;position: relative;}#sk-container-id-1 div.sk-item::before, #sk-container-id-1 div.sk-parallel-item::before {content: \"\";position: absolute;border-left: 1px solid gray;box-sizing: border-box;top: 0;bottom: 0;left: 50%;z-index: -1;}#sk-container-id-1 div.sk-parallel-item {display: flex;flex-direction: column;z-index: 1;position: relative;background-color: white;}#sk-container-id-1 div.sk-parallel-item:first-child::after {align-self: flex-end;width: 50%;}#sk-container-id-1 div.sk-parallel-item:last-child::after {align-self: flex-start;width: 50%;}#sk-container-id-1 div.sk-parallel-item:only-child::after {width: 0;}#sk-container-id-1 div.sk-dashed-wrapped {border: 1px dashed gray;margin: 0 0.4em 0.5em 0.4em;box-sizing: border-box;padding-bottom: 0.4em;background-color: white;}#sk-container-id-1 div.sk-label label {font-family: monospace;font-weight: bold;display: inline-block;line-height: 1.2em;}#sk-container-id-1 div.sk-label-container {text-align: center;}#sk-container-id-1 div.sk-container {/* jupyter's `normalize.less` sets `[hidden] { display: none; }` but bootstrap.min.css set `[hidden] { display: none !important; }` so we also need the `!important` here to be able to override the default hidden behavior on the sphinx rendered scikit-learn.org. See: https://github.com/scikit-learn/scikit-learn/issues/21755 */display: inline-block !important;position: relative;}#sk-container-id-1 div.sk-text-repr-fallback {display: none;}</style><div id=\"sk-container-id-1\" class=\"sk-top-container\"><div class=\"sk-text-repr-fallback\"><pre>LinearRegression()</pre><b>In a Jupyter environment, please rerun this cell to show the HTML representation or trust the notebook. <br />On GitHub, the HTML representation is unable to render, please try loading this page with nbviewer.org.</b></div><div class=\"sk-container\" hidden><div class=\"sk-item\"><div class=\"sk-estimator sk-toggleable\"><input class=\"sk-toggleable__control sk-hidden--visually\" id=\"sk-estimator-id-1\" type=\"checkbox\" checked><label for=\"sk-estimator-id-1\" class=\"sk-toggleable__label sk-toggleable__label-arrow\">LinearRegression</label><div class=\"sk-toggleable__content\"><pre>LinearRegression()</pre></div></div></div></div></div>"
            ],
            "text/plain": [
              "LinearRegression()"
            ]
          },
          "execution_count": 6,
          "metadata": {},
          "output_type": "execute_result"
        }
      ],
      "source": [
        "from sklearn.linear_model import LinearRegression\n",
        "\n",
        "### BEGIN YOUR CODE\n",
        "# Name your linear regression model as linear_reg, and train linear_reg\n",
        "linear_reg = LinearRegression()\n",
        "linear_reg.fit(X_train, y_train)\n",
        "### END YOUR CODE"
      ]
    },
    {
      "cell_type": "code",
      "execution_count": 7,
      "metadata": {
        "id": "zT9ur5n9dkOe"
      },
      "outputs": [],
      "source": [
        "assert linear_reg.coef_ is not None, \"Model coefficients have not been updated\"\n",
        "assert linear_reg.coef_.shape == (X_train.shape[1],), \"Incorrect number of coefficients\""
      ]
    },
    {
      "cell_type": "markdown",
      "metadata": {
        "id": "fdwYDfY5dj8q"
      },
      "source": [
        "## 5. Compute the Mean Absolute Percentage Error (MAPE) given the predicted and true variables. Then compute the MAPE for both the linear regression model and the MLP model.\n",
        "\n",
        "Note that you should set model to the eval mode so that it is faster. You should also make sure you are not updating the gradients while predicting with torch.no_grad().\n"
      ]
    },
    {
      "cell_type": "code",
      "execution_count": 8,
      "metadata": {
        "id": "w8AVl8xqiNdT"
      },
      "outputs": [
        {
          "name": "stdout",
          "output_type": "stream",
          "text": [
            "MAPE for MLP Model: 21.66%\n",
            "MAPE for Linear Regression Model: 32.58%\n"
          ]
        }
      ],
      "source": [
        "def mean_absolute_percentage_error(y_true, y_pred):\n",
        "    \"\"\"\n",
        "    The function calculates mean absolute percentage error\n",
        "    Input:\n",
        "        y_true: true data\n",
        "        y_pred: prediction data\n",
        "    Output:\n",
        "        mape: mean absolute percentage error * 100\n",
        "    \"\"\"\n",
        "    ### BEGIN YOUR CODE\n",
        "    y_true = y_true.flatten()\n",
        "    y_pred = y_pred.flatten()\n",
        "    mape = np.mean(np.abs((y_true - y_pred) / y_true)) * 100\n",
        "    \n",
        "    return mape\n",
        "    ### END YOUR CODE\n",
        "\n",
        "### BEGIN YOUR CODE\n",
        "# Get predictions by linear regression model (y_pred_lr)\n",
        "y_pred_lr = linear_reg.predict(X_test)\n",
        "\n",
        "# Get predictions by MLP model (y_pred)\n",
        "with torch.no_grad():\n",
        "    y_pred = model(test_data.X).numpy()\n",
        "### END YOUR CODE\n",
        "\n",
        "mape_mlp = mean_absolute_percentage_error(y_test, y_pred)\n",
        "mape_lr = mean_absolute_percentage_error(y_test, y_pred_lr)\n",
        "\n",
        "print(f'MAPE for MLP Model: {mape_mlp:.2f}%')\n",
        "print(f'MAPE for Linear Regression Model: {mape_lr:.2f}%')"
      ]
    },
    {
      "cell_type": "markdown",
      "metadata": {
        "id": "nNsGt6c4r2oL"
      },
      "source": [
        "## End of Problem Set 2."
      ]
    },
    {
      "cell_type": "code",
      "execution_count": null,
      "metadata": {
        "id": "A3cSYxZer55u"
      },
      "outputs": [],
      "source": []
    }
  ],
  "metadata": {
    "colab": {
      "include_colab_link": true,
      "provenance": []
    },
    "kernelspec": {
      "display_name": "Python 3",
      "name": "python3"
    },
    "language_info": {
      "codemirror_mode": {
        "name": "ipython",
        "version": 3
      },
      "file_extension": ".py",
      "mimetype": "text/x-python",
      "name": "python",
      "nbconvert_exporter": "python",
      "pygments_lexer": "ipython3",
      "version": "3.11.1"
    }
  },
  "nbformat": 4,
  "nbformat_minor": 0
}
